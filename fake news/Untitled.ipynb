{
 "cells": [
  {
   "cell_type": "code",
   "execution_count": 22,
   "id": "df3f2737-09a4-4f56-9cf5-61213a20c191",
   "metadata": {},
   "outputs": [
    {
     "data": {
      "text/html": [
       "<div>\n",
       "<style scoped>\n",
       "    .dataframe tbody tr th:only-of-type {\n",
       "        vertical-align: middle;\n",
       "    }\n",
       "\n",
       "    .dataframe tbody tr th {\n",
       "        vertical-align: top;\n",
       "    }\n",
       "\n",
       "    .dataframe thead th {\n",
       "        text-align: right;\n",
       "    }\n",
       "</style>\n",
       "<table border=\"1\" class=\"dataframe\">\n",
       "  <thead>\n",
       "    <tr style=\"text-align: right;\">\n",
       "      <th></th>\n",
       "      <th>URLs</th>\n",
       "      <th>Headline</th>\n",
       "      <th>Body</th>\n",
       "      <th>Label</th>\n",
       "    </tr>\n",
       "  </thead>\n",
       "  <tbody>\n",
       "    <tr>\n",
       "      <th>0</th>\n",
       "      <td>http://www.bbc.com/news/world-us-canada-414191...</td>\n",
       "      <td>Four ways Bob Corker skewered Donald Trump</td>\n",
       "      <td>Image copyright Getty Images\\nOn Sunday mornin...</td>\n",
       "      <td>1</td>\n",
       "    </tr>\n",
       "    <tr>\n",
       "      <th>1</th>\n",
       "      <td>https://www.reuters.com/article/us-filmfestiva...</td>\n",
       "      <td>Linklater's war veteran comedy speaks to moder...</td>\n",
       "      <td>LONDON (Reuters) - “Last Flag Flying”, a comed...</td>\n",
       "      <td>1</td>\n",
       "    </tr>\n",
       "    <tr>\n",
       "      <th>2</th>\n",
       "      <td>https://www.nytimes.com/2017/10/09/us/politics...</td>\n",
       "      <td>Trump’s Fight With Corker Jeopardizes His Legi...</td>\n",
       "      <td>The feud broke into public view last week when...</td>\n",
       "      <td>1</td>\n",
       "    </tr>\n",
       "    <tr>\n",
       "      <th>3</th>\n",
       "      <td>https://www.reuters.com/article/us-mexico-oil-...</td>\n",
       "      <td>Egypt's Cheiron wins tie-up with Pemex for Mex...</td>\n",
       "      <td>MEXICO CITY (Reuters) - Egypt’s Cheiron Holdin...</td>\n",
       "      <td>1</td>\n",
       "    </tr>\n",
       "    <tr>\n",
       "      <th>4</th>\n",
       "      <td>http://www.cnn.com/videos/cnnmoney/2017/10/08/...</td>\n",
       "      <td>Jason Aldean opens 'SNL' with Vegas tribute</td>\n",
       "      <td>Country singer Jason Aldean, who was performin...</td>\n",
       "      <td>1</td>\n",
       "    </tr>\n",
       "    <tr>\n",
       "      <th>5</th>\n",
       "      <td>http://beforeitsnews.com/sports/2017/09/jetnat...</td>\n",
       "      <td>JetNation FanDuel League; Week 4</td>\n",
       "      <td>JetNation FanDuel League; Week 4\\n% of readers...</td>\n",
       "      <td>0</td>\n",
       "    </tr>\n",
       "    <tr>\n",
       "      <th>6</th>\n",
       "      <td>https://www.nytimes.com/2017/10/10/us/politics...</td>\n",
       "      <td>Kansas Tried a Tax Plan Similar to Trump’s. It...</td>\n",
       "      <td>In 2012, Kansas lawmakers, led by Gov. Sam Bro...</td>\n",
       "      <td>1</td>\n",
       "    </tr>\n",
       "    <tr>\n",
       "      <th>7</th>\n",
       "      <td>https://www.reuters.com/article/us-india-cenba...</td>\n",
       "      <td>India RBI chief: growth important, but not at ...</td>\n",
       "      <td>The Reserve Bank of India (RBI) Governor Urjit...</td>\n",
       "      <td>1</td>\n",
       "    </tr>\n",
       "    <tr>\n",
       "      <th>8</th>\n",
       "      <td>https://www.reuters.com/article/us-climatechan...</td>\n",
       "      <td>EPA chief to sign rule on Clean Power Plan exi...</td>\n",
       "      <td>Scott Pruitt, Administrator of the U.S. Enviro...</td>\n",
       "      <td>1</td>\n",
       "    </tr>\n",
       "    <tr>\n",
       "      <th>9</th>\n",
       "      <td>https://www.reuters.com/article/us-air-berlin-...</td>\n",
       "      <td>Talks on sale of Air Berlin planes to easyJet ...</td>\n",
       "      <td>FILE PHOTO - An Air Berlin sign is seen at an ...</td>\n",
       "      <td>1</td>\n",
       "    </tr>\n",
       "  </tbody>\n",
       "</table>\n",
       "</div>"
      ],
      "text/plain": [
       "                                                URLs  \\\n",
       "0  http://www.bbc.com/news/world-us-canada-414191...   \n",
       "1  https://www.reuters.com/article/us-filmfestiva...   \n",
       "2  https://www.nytimes.com/2017/10/09/us/politics...   \n",
       "3  https://www.reuters.com/article/us-mexico-oil-...   \n",
       "4  http://www.cnn.com/videos/cnnmoney/2017/10/08/...   \n",
       "5  http://beforeitsnews.com/sports/2017/09/jetnat...   \n",
       "6  https://www.nytimes.com/2017/10/10/us/politics...   \n",
       "7  https://www.reuters.com/article/us-india-cenba...   \n",
       "8  https://www.reuters.com/article/us-climatechan...   \n",
       "9  https://www.reuters.com/article/us-air-berlin-...   \n",
       "\n",
       "                                            Headline  \\\n",
       "0         Four ways Bob Corker skewered Donald Trump   \n",
       "1  Linklater's war veteran comedy speaks to moder...   \n",
       "2  Trump’s Fight With Corker Jeopardizes His Legi...   \n",
       "3  Egypt's Cheiron wins tie-up with Pemex for Mex...   \n",
       "4        Jason Aldean opens 'SNL' with Vegas tribute   \n",
       "5                   JetNation FanDuel League; Week 4   \n",
       "6  Kansas Tried a Tax Plan Similar to Trump’s. It...   \n",
       "7  India RBI chief: growth important, but not at ...   \n",
       "8  EPA chief to sign rule on Clean Power Plan exi...   \n",
       "9  Talks on sale of Air Berlin planes to easyJet ...   \n",
       "\n",
       "                                                Body  Label  \n",
       "0  Image copyright Getty Images\\nOn Sunday mornin...      1  \n",
       "1  LONDON (Reuters) - “Last Flag Flying”, a comed...      1  \n",
       "2  The feud broke into public view last week when...      1  \n",
       "3  MEXICO CITY (Reuters) - Egypt’s Cheiron Holdin...      1  \n",
       "4  Country singer Jason Aldean, who was performin...      1  \n",
       "5  JetNation FanDuel League; Week 4\\n% of readers...      0  \n",
       "6  In 2012, Kansas lawmakers, led by Gov. Sam Bro...      1  \n",
       "7  The Reserve Bank of India (RBI) Governor Urjit...      1  \n",
       "8  Scott Pruitt, Administrator of the U.S. Enviro...      1  \n",
       "9  FILE PHOTO - An Air Berlin sign is seen at an ...      1  "
      ]
     },
     "execution_count": 22,
     "metadata": {},
     "output_type": "execute_result"
    }
   ],
   "source": [
    "import numpy as np\n",
    "import pandas as pd\n",
    "import matplotlib.pyplot as plt\n",
    "import matplotlib\n",
    "import seaborn as sns\n",
    "import itertools\n",
    "from sklearn.model_selection import train_test_split\n",
    "from sklearn.feature_extraction.text import TfidfVectorizer\n",
    "from sklearn.linear_model import PassiveAggressiveClassifier\n",
    "from sklearn.metrics import accuracy_score, confusion_matrix\n",
    "\n",
    "import itertools as it\n",
    "from sklearn.model_selection import train_test_split\n",
    "import numpy as np\n",
    "import pandas as pd\n",
    "import os\n",
    "#for dirname, _, filenames in os.walk('data.csv'):\n",
    "    #for filename in filenames:\n",
    "        #print(os.path.join(dirname, filename))\n",
    "my_data = pd.read_csv('data.csv')\n",
    "my_data.head(10)\n",
    "\n"
   ]
  },
  {
   "cell_type": "code",
   "execution_count": 23,
   "id": "3ef966e8-4c9f-4093-9eeb-3e0d33b4aac3",
   "metadata": {},
   "outputs": [
    {
     "data": {
      "text/plain": [
       "0    1\n",
       "1    1\n",
       "2    1\n",
       "3    1\n",
       "4    1\n",
       "Name: Label, dtype: int64"
      ]
     },
     "execution_count": 23,
     "metadata": {},
     "output_type": "execute_result"
    }
   ],
   "source": [
    "labels=my_data.Label\n",
    "labels.head()\n"
   ]
  },
  {
   "cell_type": "code",
   "execution_count": 24,
   "id": "0ae5c7df-2a08-4288-b17c-988fd95a7477",
   "metadata": {},
   "outputs": [
    {
     "data": {
      "text/plain": [
       "Label\n",
       "0    2137\n",
       "1    1872\n",
       "Name: count, dtype: int64"
      ]
     },
     "execution_count": 24,
     "metadata": {},
     "output_type": "execute_result"
    }
   ],
   "source": [
    "Labels_count=my_data.Label.value_counts()\n",
    "Labels_count"
   ]
  },
  {
   "cell_type": "code",
   "execution_count": 25,
   "id": "e92ae636-a2eb-4793-916b-0b287e49f1c8",
   "metadata": {},
   "outputs": [
    {
     "data": {
      "image/png": "[encoded data removed]",
      "text/plain": [
       "<Figure size 640x480 with 1 Axes>"
      ]
     },
     "metadata": {},
     "output_type": "display_data"
    }
   ],
   "source": [
    "sns.countplot(x ='Label', data = my_data)\n",
    "plt.title('TYPE OF NEWS');"
   ]
  },
  {
   "cell_type": "code",
   "execution_count": 26,
   "id": "b9afcfa8-007d-4c5c-9042-614e31d91c48",
   "metadata": {},
   "outputs": [
    {
     "data": {
      "text/plain": [
       "0       1\n",
       "1       1\n",
       "2       1\n",
       "3       1\n",
       "4       1\n",
       "       ..\n",
       "4004    0\n",
       "4005    0\n",
       "4006    0\n",
       "4007    1\n",
       "4008    0\n",
       "Name: New_Label, Length: 4009, dtype: object"
      ]
     },
     "execution_count": 26,
     "metadata": {},
     "output_type": "execute_result"
    }
   ],
   "source": [
    "my_data['New_Label'] = my_data['Label'].map(str)\n",
    "my_data['New_Label']"
   ]
  },
  {
   "cell_type": "code",
   "execution_count": 27,
   "id": "b027b24e-0f4d-4e51-945e-757151bfde24",
   "metadata": {},
   "outputs": [
    {
     "data": {
      "text/html": [
       "<div>\n",
       "<style scoped>\n",
       "    .dataframe tbody tr th:only-of-type {\n",
       "        vertical-align: middle;\n",
       "    }\n",
       "\n",
       "    .dataframe tbody tr th {\n",
       "        vertical-align: top;\n",
       "    }\n",
       "\n",
       "    .dataframe thead th {\n",
       "        text-align: right;\n",
       "    }\n",
       "</style>\n",
       "<table border=\"1\" class=\"dataframe\">\n",
       "  <thead>\n",
       "    <tr style=\"text-align: right;\">\n",
       "      <th></th>\n",
       "      <th>URLs</th>\n",
       "      <th>Headline</th>\n",
       "      <th>Body</th>\n",
       "      <th>Label</th>\n",
       "      <th>New_Label</th>\n",
       "    </tr>\n",
       "  </thead>\n",
       "  <tbody>\n",
       "    <tr>\n",
       "      <th>0</th>\n",
       "      <td>http://www.bbc.com/news/world-us-canada-414191...</td>\n",
       "      <td>Four ways Bob Corker skewered Donald Trump</td>\n",
       "      <td>Image copyright Getty Images\\nOn Sunday mornin...</td>\n",
       "      <td>1</td>\n",
       "      <td>1</td>\n",
       "    </tr>\n",
       "    <tr>\n",
       "      <th>1</th>\n",
       "      <td>https://www.reuters.com/article/us-filmfestiva...</td>\n",
       "      <td>Linklater's war veteran comedy speaks to moder...</td>\n",
       "      <td>LONDON (Reuters) - “Last Flag Flying”, a comed...</td>\n",
       "      <td>1</td>\n",
       "      <td>1</td>\n",
       "    </tr>\n",
       "    <tr>\n",
       "      <th>2</th>\n",
       "      <td>https://www.nytimes.com/2017/10/09/us/politics...</td>\n",
       "      <td>Trump’s Fight With Corker Jeopardizes His Legi...</td>\n",
       "      <td>The feud broke into public view last week when...</td>\n",
       "      <td>1</td>\n",
       "      <td>1</td>\n",
       "    </tr>\n",
       "    <tr>\n",
       "      <th>3</th>\n",
       "      <td>https://www.reuters.com/article/us-mexico-oil-...</td>\n",
       "      <td>Egypt's Cheiron wins tie-up with Pemex for Mex...</td>\n",
       "      <td>MEXICO CITY (Reuters) - Egypt’s Cheiron Holdin...</td>\n",
       "      <td>1</td>\n",
       "      <td>1</td>\n",
       "    </tr>\n",
       "    <tr>\n",
       "      <th>4</th>\n",
       "      <td>http://www.cnn.com/videos/cnnmoney/2017/10/08/...</td>\n",
       "      <td>Jason Aldean opens 'SNL' with Vegas tribute</td>\n",
       "      <td>Country singer Jason Aldean, who was performin...</td>\n",
       "      <td>1</td>\n",
       "      <td>1</td>\n",
       "    </tr>\n",
       "  </tbody>\n",
       "</table>\n",
       "</div>"
      ],
      "text/plain": [
       "                                                URLs  \\\n",
       "0  http://www.bbc.com/news/world-us-canada-414191...   \n",
       "1  https://www.reuters.com/article/us-filmfestiva...   \n",
       "2  https://www.nytimes.com/2017/10/09/us/politics...   \n",
       "3  https://www.reuters.com/article/us-mexico-oil-...   \n",
       "4  http://www.cnn.com/videos/cnnmoney/2017/10/08/...   \n",
       "\n",
       "                                            Headline  \\\n",
       "0         Four ways Bob Corker skewered Donald Trump   \n",
       "1  Linklater's war veteran comedy speaks to moder...   \n",
       "2  Trump’s Fight With Corker Jeopardizes His Legi...   \n",
       "3  Egypt's Cheiron wins tie-up with Pemex for Mex...   \n",
       "4        Jason Aldean opens 'SNL' with Vegas tribute   \n",
       "\n",
       "                                                Body  Label New_Label  \n",
       "0  Image copyright Getty Images\\nOn Sunday mornin...      1         1  \n",
       "1  LONDON (Reuters) - “Last Flag Flying”, a comed...      1         1  \n",
       "2  The feud broke into public view last week when...      1         1  \n",
       "3  MEXICO CITY (Reuters) - Egypt’s Cheiron Holdin...      1         1  \n",
       "4  Country singer Jason Aldean, who was performin...      1         1  "
      ]
     },
     "execution_count": 27,
     "metadata": {},
     "output_type": "execute_result"
    }
   ],
   "source": [
    "my_data.head()"
   ]
  },
  {
   "cell_type": "code",
   "execution_count": 28,
   "id": "0609f66d-d51c-4fe5-855c-169263eb1b4b",
   "metadata": {},
   "outputs": [],
   "source": [
    "my_data['Body'] = my_data['Body'].map(str)"
   ]
  },
  {
   "cell_type": "code",
   "execution_count": 29,
   "id": "89fd257c-1310-41b0-b92f-cbdbe2b875f6",
   "metadata": {},
   "outputs": [],
   "source": [
    "my_data['Body'] = my_data['Body'].apply(str.lower)\n",
    "#my_data['Body']\n"
   ]
  },
  {
   "cell_type": "code",
   "execution_count": 30,
   "id": "9887efa5-f3b0-47ac-b287-1f2afa566d5b",
   "metadata": {},
   "outputs": [
    {
     "data": {
      "text/plain": [
       "356     (cnn) rapper eminem unleashed a blistering fou...\n",
       "2699    the bills that will make it easier for people ...\n",
       "1151    (cnn) — inhale the pine-scented air, plunge in...\n",
       "3614    no getting around it, the war is coming! trump...\n",
       "2011    an exhibit about the vietnam war is seen at th...\n",
       "                              ...                        \n",
       "1603    swiss authorities said wednesday that a german...\n",
       "2550    warning something big is about to happen in am...\n",
       "537     harrison ford, ryan gosling, ana de armas and ...\n",
       "1220    tunis/rome (reuters) - at least eight people d...\n",
       "175     hangover win\\n% of readers think this story is...\n",
       "Name: Body, Length: 3207, dtype: object"
      ]
     },
     "execution_count": 30,
     "metadata": {},
     "output_type": "execute_result"
    }
   ],
   "source": [
    "x_train,x_test,y_train,y_test=train_test_split(my_data['Body'], labels, test_size=0.2, random_state=7)\n",
    "x_train\n",
    "#len(y_test)\n"
   ]
  },
  {
   "cell_type": "code",
   "execution_count": 31,
   "id": "748e7c23-fce3-42dd-b9a5-f269fa119cf3",
   "metadata": {},
   "outputs": [
    {
     "data": {
      "text/plain": [
       "414     the nationals, on the other hand, claimed the ...\n",
       "378     the durham bulls in 2017 — part 2 — the pitche...\n",
       "658     sen. collins says ‘no’ to graham-cassidy healt...\n",
       "590     what is the perfect golf swing?\\n(before it's ...\n",
       "1602    mexico city (reuters) - gmexico transportes, t...\n",
       "                              ...                        \n",
       "3958    cairo/beirut (reuters) - a ceasefire deal for ...\n",
       "3123    by massprivatei\\neditor’s note: this is the mi...\n",
       "2682    no getting around it, the war is coming! trump...\n",
       "3875    by jake anderson\\nsomewhere in the world, a do...\n",
       "2230    image copyright reuters image caption oppositi...\n",
       "Name: Body, Length: 802, dtype: object"
      ]
     },
     "execution_count": 31,
     "metadata": {},
     "output_type": "execute_result"
    }
   ],
   "source": [
    "x_test\n",
    "\n"
   ]
  },
  {
   "cell_type": "code",
   "execution_count": 32,
   "id": "403f7f9c-4369-4c0c-ac5f-3bb01fc3f8ee",
   "metadata": {},
   "outputs": [
    {
     "data": {
      "text/plain": [
       "356     1\n",
       "2699    0\n",
       "1151    1\n",
       "3614    0\n",
       "2011    1\n",
       "       ..\n",
       "1603    1\n",
       "2550    0\n",
       "537     1\n",
       "1220    1\n",
       "175     0\n",
       "Name: Label, Length: 3207, dtype: int64"
      ]
     },
     "execution_count": 32,
     "metadata": {},
     "output_type": "execute_result"
    }
   ],
   "source": [
    "y_train"
   ]
  },
  {
   "cell_type": "code",
   "execution_count": 33,
   "id": "4b20ab56-e4be-4e73-b0c7-b0a99534517e",
   "metadata": {},
   "outputs": [
    {
     "data": {
      "text/plain": [
       "414     1\n",
       "378     0\n",
       "658     0\n",
       "590     0\n",
       "1602    1\n",
       "       ..\n",
       "3958    1\n",
       "3123    0\n",
       "2682    0\n",
       "3875    0\n",
       "2230    1\n",
       "Name: Label, Length: 802, dtype: int64"
      ]
     },
     "execution_count": 33,
     "metadata": {},
     "output_type": "execute_result"
    }
   ],
   "source": [
    "y_test"
   ]
  },
  {
   "cell_type": "code",
   "execution_count": 34,
   "id": "0877b0ab-58d3-49ac-866e-71c127d0de6c",
   "metadata": {},
   "outputs": [
    {
     "name": "stdout",
     "output_type": "stream",
     "text": [
      "<Compressed Sparse Row sparse matrix of dtype 'float64'\n",
      "\twith 135281 stored elements and shape (802, 42410)>\n",
      "  Coords\tValues\n",
      "  (0, 397)\t0.07501373375624984\n",
      "  (0, 539)\t0.04552015358135516\n",
      "  (0, 551)\t0.036500864239200716\n",
      "  (0, 1462)\t0.06122084277205667\n",
      "  (0, 1561)\t0.06368873489247195\n",
      "  (0, 1603)\t0.05274772231135587\n",
      "  (0, 2056)\t0.03182211742823575\n",
      "  (0, 2204)\t0.03403297211878544\n",
      "  (0, 2250)\t0.045657475110764324\n",
      "  (0, 2379)\t0.03360087136955831\n",
      "  (0, 2736)\t0.033992859658406094\n",
      "  (0, 3179)\t0.046375866668157406\n",
      "  (0, 3518)\t0.044011913259487424\n",
      "  (0, 3762)\t0.06578770295554845\n",
      "  (0, 4151)\t0.045119822624373494\n",
      "  (0, 4325)\t0.15765536719948206\n",
      "  (0, 4396)\t0.035796315742001934\n",
      "  (0, 4631)\t0.07786449404821252\n",
      "  (0, 4632)\t0.03927684078498343\n",
      "  (0, 4637)\t0.05926771263345216\n",
      "  (0, 4814)\t0.03681975436099408\n",
      "  (0, 5003)\t0.04344848991395115\n",
      "  (0, 5130)\t0.028287691353177113\n",
      "  (0, 5953)\t0.03311454974836368\n",
      "  (0, 6090)\t0.03714983586745601\n",
      "  :\t:\n",
      "  (801, 31426)\t0.06294631828865832\n",
      "  (801, 31482)\t0.11154560389494339\n",
      "  (801, 32023)\t0.059873191131718025\n",
      "  (801, 32048)\t0.058818459492798354\n",
      "  (801, 32092)\t0.07101339309522813\n",
      "  (801, 32190)\t0.03625728948982383\n",
      "  (801, 32414)\t0.03593546671217155\n",
      "  (801, 32958)\t0.040242084387895845\n",
      "  (801, 33127)\t0.11660130170074945\n",
      "  (801, 33838)\t0.04436708992571035\n",
      "  (801, 35115)\t0.08662115296604445\n",
      "  (801, 35184)\t0.083050821639268\n",
      "  (801, 36529)\t0.053047188583186626\n",
      "  (801, 37020)\t0.18489233067234714\n",
      "  (801, 37039)\t0.06421480357822579\n",
      "  (801, 38459)\t0.033157802605308345\n",
      "  (801, 39396)\t0.09485995947276725\n",
      "  (801, 39729)\t0.08471662067520669\n",
      "  (801, 40175)\t0.08856355077864898\n",
      "  (801, 40665)\t0.066266398383095\n",
      "  (801, 41145)\t0.03339962237780283\n",
      "  (801, 41230)\t0.04230938305547444\n",
      "  (801, 41239)\t0.03421234420900105\n",
      "  (801, 41587)\t0.04166527242348062\n",
      "  (801, 41687)\t0.08768644313158061\n"
     ]
    }
   ],
   "source": [
    "tfidf_vectorizer=TfidfVectorizer(stop_words='english', max_df=0.7)\n",
    "tfidf_train=tfidf_vectorizer.fit_transform(x_train)\n",
    "tfidf_test=tfidf_vectorizer.transform(x_test)\n",
    "print(tfidf_test)"
   ]
  },
  {
   "cell_type": "code",
   "execution_count": 35,
   "id": "2d353660-7929-4783-98de-e046d01f2795",
   "metadata": {},
   "outputs": [
    {
     "name": "stdout",
     "output_type": "stream",
     "text": [
      "Accuracy: 98.63%\n"
     ]
    }
   ],
   "source": [
    "pac=PassiveAggressiveClassifier(max_iter=50)\n",
    "pac.fit(tfidf_train,y_train)\n",
    "#print(tfidf_test)\n",
    "y_pred=pac.predict(tfidf_test)\n",
    "score=accuracy_score(y_test,y_pred)\n",
    "print(f'Accuracy: {round(score*100,2)}%')"
   ]
  },
  {
   "cell_type": "code",
   "execution_count": 36,
   "id": "e7b90ab6-bfc2-4597-bb7e-9ce6f3dccf7e",
   "metadata": {},
   "outputs": [
    {
     "data": {
      "text/plain": [
       "array([[428,   6],\n",
       "       [  5, 363]])"
      ]
     },
     "execution_count": 36,
     "metadata": {},
     "output_type": "execute_result"
    }
   ],
   "source": [
    "cm = confusion_matrix(y_test,y_pred)\n",
    "cm"
   ]
  },
  {
   "cell_type": "code",
   "execution_count": 37,
   "id": "7a8b9ad9-426f-469f-b8d3-bc5f69fc930a",
   "metadata": {},
   "outputs": [
    {
     "data": {
      "image/png": "[encoded data removed]",
      "text/plain": [
       "<Figure size 750x750 with 1 Axes>"
      ]
     },
     "metadata": {},
     "output_type": "display_data"
    }
   ],
   "source": [
    "fig, ax = plt.subplots(figsize=(7.5, 7.5))\n",
    "ax.matshow(cm, cmap=plt.cm.Blues, alpha=0.3)\n",
    "for i in range(cm.shape[0]):\n",
    "    for j in range(cm.shape[1]):\n",
    "        ax.text(x=j, y=i,s=cm[i, j], va='center', ha='center', size='xx-large')\n",
    " \n",
    "plt.xlabel('y_pred', fontsize=18)\n",
    "plt.ylabel('y_test', fontsize=18)\n",
    "plt.title('Confusion Matrix', fontsize=18)\n",
    "plt.show()"
   ]
  },
  {
   "cell_type": "code",
   "execution_count": 38,
   "id": "cb99d2f6-ffdb-42bb-9c89-892fa12d0bd0",
   "metadata": {},
   "outputs": [
    {
     "data": {
      "text/plain": [
       "['fakenews.pkl']"
      ]
     },
     "execution_count": 38,
     "metadata": {},
     "output_type": "execute_result"
    }
   ],
   "source": [
    "import joblib\n",
    "joblib.dump(pac, 'fakenews.pkl')\n"
   ]
  },
  {
   "cell_type": "code",
   "execution_count": 39,
   "id": "89204188-9729-4a2a-bae4-480cb2dd6340",
   "metadata": {},
   "outputs": [],
   "source": [
    "loaded_model = joblib.load('fakenews.pkl') \n"
   ]
  },
  {
   "cell_type": "code",
   "execution_count": null,
   "id": "ca645d40-8181-4668-ade9-c14558be85c2",
   "metadata": {},
   "outputs": [],
   "source": []
  },
  {
   "cell_type": "code",
   "execution_count": 40,
   "id": "fa132d4f-823a-4e19-8b30-8346e154034c",
   "metadata": {},
   "outputs": [],
   "source": [
    "my_data['Body'] = my_data['Body'].map(str)"
   ]
  },
  {
   "cell_type": "code",
   "execution_count": 41,
   "id": "4fd7503e-4058-4e3a-b6c0-fe74649469af",
   "metadata": {},
   "outputs": [],
   "source": [
    "my_data['Body'] = my_data['Body'].apply(str.lower)"
   ]
  },
  {
   "cell_type": "code",
   "execution_count": null,
   "id": "a7d8a01b-1a7c-4b6c-aed1-d4a71bdcef8c",
   "metadata": {},
   "outputs": [],
   "source": []
  }
 ],
 "metadata": {
  "kernelspec": {
   "display_name": "venv",
   "language": "python",
   "name": "python3"
  },
  "language_info": {
   "codemirror_mode": {
    "name": "ipython",
    "version": 3
   },
   "file_extension": ".py",
   "mimetype": "text/x-python",
   "name": "python",
   "nbconvert_exporter": "python",
   "pygments_lexer": "ipython3",
   "version": "3.12.2"
  }
 },
 "nbformat": 4,
 "nbformat_minor": 5
}
